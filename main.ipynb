{
 "cells": [
  {
   "cell_type": "code",
   "execution_count": 24,
   "metadata": {},
   "outputs": [
    {
     "name": "stdout",
     "output_type": "stream",
     "text": [
      "[48 49 45 ... 47 46 46]\n",
      "(10304,)\n",
      "[34 34 33 ... 37 40 33]\n",
      "(10304,)\n",
      "[60 60 62 ... 32 34 34]\n",
      "(10304,)\n",
      "[39 44 53 ... 29 26 29]\n",
      "(10304,)\n",
      "[63 53 35 ... 41 10 24]\n",
      "(10304,)\n",
      "[64 76 80 ... 35 37 39]\n",
      "(10304,)\n",
      "[ 43  50  41 ... 158 153 169]\n",
      "(10304,)\n",
      "[41 47 47 ... 35 37 38]\n",
      "(10304,)\n",
      "[44 43 32 ... 43 43 37]\n",
      "(10304,)\n",
      "[42 41 44 ... 42 43 41]\n",
      "(10304,)\n",
      "[[48. 49. 45. ... 47. 46. 46.]\n",
      " [34. 34. 33. ... 37. 40. 33.]\n",
      " [60. 60. 62. ... 32. 34. 34.]\n",
      " ...\n",
      " [ 0.  0.  0. ...  0.  0.  0.]\n",
      " [ 0.  0.  0. ...  0.  0.  0.]\n",
      " [ 0.  0.  0. ...  0.  0.  0.]]\n"
     ]
    }
   ],
   "source": [
    "# load the archive data file\n",
    "import pandas as pd\n",
    "import numpy as np\n",
    "import matplotlib.pyplot as plt\n",
    "from PIL import Image\n",
    "\n",
    "img= Image.open(\"archive/s1/1.pgm\")\n",
    "np_img = np.array(img)\n",
    " \n",
    "Data = np.zeros((400,10304))\n",
    "cnt=0\n",
    "#  open archive directory and read file s1\n",
    "import os\n",
    "path = \"archive/s1\"\n",
    "files = os.listdir(path)\n",
    "for file in files:\n",
    "    img = Image.open(path + \"/\" + file)\n",
    "    np_img = np.array(img)\n",
    "    np_img = np_img.flatten()\n",
    "    print(np_img)\n",
    "    Data[cnt]=np_img\n",
    "    cnt+=1\n",
    "    print(np_img.shape)\n",
    "\n",
    "print(Data)    "
   ]
  }
 ],
 "metadata": {
  "kernelspec": {
   "display_name": "Python 3",
   "language": "python",
   "name": "python3"
  },
  "language_info": {
   "codemirror_mode": {
    "name": "ipython",
    "version": 3
   },
   "file_extension": ".py",
   "mimetype": "text/x-python",
   "name": "python",
   "nbconvert_exporter": "python",
   "pygments_lexer": "ipython3",
   "version": "3.10.3"
  },
  "orig_nbformat": 4
 },
 "nbformat": 4,
 "nbformat_minor": 2
}
