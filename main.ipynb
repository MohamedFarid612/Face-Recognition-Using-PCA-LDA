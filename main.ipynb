{
 "cells": [
  {
   "cell_type": "code",
   "execution_count": 48,
   "metadata": {},
   "outputs": [
    {
     "name": "stdout",
     "output_type": "stream",
     "text": [
      "(200, 10304)\n",
      "(200, 10304)\n",
      "(200, 1)\n",
      "(200, 1)\n"
     ]
    }
   ],
   "source": [
    "# load the archive data file\n",
    "import pandas as pd\n",
    "import numpy as np\n",
    "import matplotlib.pyplot as plt\n",
    "from PIL import Image\n",
    "import os\n",
    "\n",
    "\n",
    "Data = np.zeros((400,10304))\n",
    "cnt=0\n",
    "paths = [\"archive/s\"+str(i) for i in range(1,41)]\n",
    "# looping through the paths and adding flattened images (row matrices) to the Data matrix\n",
    "for path in paths:\n",
    "    files = os.listdir(path)\n",
    "    for file in files:\n",
    "        img = Image.open(path + \"/\" + file)\n",
    "        np_img = np.array(img)\n",
    "        np_img = np_img.flatten()\n",
    "        Data[cnt]=np_img\n",
    "        cnt+=1\n",
    "\n",
    "# creating the labels vector\n",
    "labels = np.zeros((400,1))\n",
    "for i in range(1,41):\n",
    "    labels[(i-1)*10:i*10] = i\n",
    "\n",
    "# creating the training set and test set\n",
    "# syntax explanation : [beginning:end:step]\n",
    "training_set = Data[0:400:2]\n",
    "test_set = Data[1:400:2]\n",
    "\n",
    "# creating the training labels and test labels\n",
    "training_labels = labels[0:400:2]\n",
    "test_labels = labels[1:400:2]\n",
    "\n",
    "\n",
    "print(training_set.shape)\n",
    "print(test_set.shape)\n",
    "print(training_labels.shape)\n",
    "print(test_labels.shape)"
   ]
  }
 ],
 "metadata": {
  "kernelspec": {
   "display_name": "Python 3",
   "language": "python",
   "name": "python3"
  },
  "language_info": {
   "codemirror_mode": {
    "name": "ipython",
    "version": 3
   },
   "file_extension": ".py",
   "mimetype": "text/x-python",
   "name": "python",
   "nbconvert_exporter": "python",
   "pygments_lexer": "ipython3",
   "version": "3.10.3"
  },
  "orig_nbformat": 4
 },
 "nbformat": 4,
 "nbformat_minor": 2
}
