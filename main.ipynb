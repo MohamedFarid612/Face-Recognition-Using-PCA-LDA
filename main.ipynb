{
 "cells": [
  {
   "attachments": {},
   "cell_type": "markdown",
   "metadata": {},
   "source": [
    "## Data preparation and vectorization"
   ]
  },
  {
   "cell_type": "code",
   "execution_count": 36,
   "metadata": {},
   "outputs": [
    {
     "name": "stdout",
     "output_type": "stream",
     "text": [
      "(200, 10304)\n",
      "(200, 10304)\n",
      "(200, 1)\n",
      "(200, 1)\n"
     ]
    }
   ],
   "source": [
    "import pandas as pd\n",
    "import numpy as np\n",
    "import matplotlib.pyplot as plt\n",
    "from PIL import Image\n",
    "import os\n",
    "\n",
    "\n",
    "Data = np.zeros((400,10304))\n",
    "cnt=0\n",
    "paths = [\"archive/s\"+str(i) for i in range(1,41)]\n",
    "# looping through the paths and adding flattened images (row matrices) to the Data matrix\n",
    "for path in paths:\n",
    "    files = os.listdir(path)\n",
    "    for file in files:\n",
    "        img = Image.open(path + \"/\" + file)\n",
    "        np_img = np.array(img)\n",
    "        np_img = np_img.flatten()\n",
    "        Data[cnt]=np_img\n",
    "        cnt+=1\n",
    "\n",
    "# creating the labels vector\n",
    "labels = np.zeros((400,1))\n",
    "for i in range(1,41):\n",
    "    labels[(i-1)*10:i*10] = i\n",
    "\n",
    "# creating the training set and test set\n",
    "# syntax explanation : [beginning:end:step]\n",
    "training_set = Data[0:400:2]\n",
    "test_set = Data[1:400:2]\n",
    "\n",
    "# creating the training labels and test labels\n",
    "training_labels = labels[0:400:2]\n",
    "test_labels = labels[1:400:2]\n",
    "\n",
    "\n",
    "print(training_set.shape)\n",
    "print(test_set.shape)\n",
    "print(training_labels.shape)\n",
    "print(test_labels.shape)"
   ]
  },
  {
   "attachments": {},
   "cell_type": "markdown",
   "metadata": {},
   "source": [
    "## Data preprocessing"
   ]
  },
  {
   "cell_type": "code",
   "execution_count": 37,
   "metadata": {},
   "outputs": [
    {
     "name": "stdout",
     "output_type": "stream",
     "text": [
      "(1, 10304)\n",
      "(10304, 10304)\n",
      "(10304,)\n",
      "(10304, 10304)\n"
     ]
    }
   ],
   "source": [
    "means=np.mean(training_set,axis=0)\n",
    "# we need to reshape the means vector to be a row vector to be able to use broadcasting\n",
    "means=means.reshape(1,10304)\n",
    "print(means.shape)\n",
    "centered_training_set=training_set-means\n",
    "centered_test_set=test_set-means\n",
    "# bias=True is used to divide by N instead of N-1 as we told in the lecture\n",
    "covariance_matrix=np.cov(centered_training_set.T,bias=True)\n",
    "print(covariance_matrix.shape)\n",
    "# we use eigh instead of eig because the covariance matrix is symmetric and won't have complex eigenvalues\n",
    "eigenvalues,eigenvectors=np.linalg.eigh(covariance_matrix)\n",
    "print(eigenvalues.shape)\n",
    "print(eigenvectors.shape)\n"
   ]
  },
  {
   "attachments": {},
   "cell_type": "markdown",
   "metadata": {},
   "source": [
    "### sorting eigen vectors and eigen values"
   ]
  },
  {
   "cell_type": "code",
   "execution_count": 38,
   "metadata": {},
   "outputs": [],
   "source": [
    "idx = eigenvalues.argsort()[::-1]\n",
    "sorted_eigenvalues = (eigenvalues[idx])\n",
    "sorted_eigenvectors = (eigenvectors[:,idx])"
   ]
  },
  {
   "attachments": {},
   "cell_type": "markdown",
   "metadata": {},
   "source": [
    "## PCA algorithm"
   ]
  },
  {
   "cell_type": "code",
   "execution_count": 39,
   "metadata": {},
   "outputs": [
    {
     "name": "stdout",
     "output_type": "stream",
     "text": [
      "(10304, 10229)\n",
      "(200, 10229)\n",
      "(200, 10229)\n",
      "0.33\n",
      "(10304, 10269)\n",
      "(200, 10269)\n",
      "(200, 10269)\n",
      "0.58\n",
      "(10304, 10286)\n",
      "(200, 10286)\n",
      "(200, 10286)\n",
      "0.76\n",
      "(10304, 10295)\n",
      "(200, 10295)\n",
      "(200, 10295)\n",
      "0.835\n",
      "(10304, 10299)\n",
      "(200, 10299)\n",
      "(200, 10299)\n",
      "0.86\n",
      "(10304, 10301)\n",
      "(200, 10301)\n",
      "(200, 10301)\n",
      "0.88\n",
      "(10304, 10303)\n",
      "(200, 10303)\n",
      "(200, 10303)\n",
      "0.935\n",
      "(10304, 10303)\n",
      "(200, 10303)\n",
      "(200, 10303)\n",
      "0.935\n",
      "(10304, 10304)\n",
      "(200, 10304)\n",
      "(200, 10304)\n",
      "0.93\n",
      "(10304, 10304)\n",
      "(200, 10304)\n",
      "(200, 10304)\n",
      "0.93\n",
      "(10304, 10304)\n",
      "(200, 10304)\n",
      "(200, 10304)\n",
      "0.93\n",
      "(10304, 10304)\n",
      "(200, 10304)\n",
      "(200, 10304)\n",
      "0.93\n"
     ]
    }
   ],
   "source": [
    "alpha=[0.1 , 0.2 , 0.3 , 0.4, 0.5, 0.6, 0.7, 0.8, 0.85, 0.9, 0.95 ,0.97]\n",
    "pcs=[]\n",
    "def get_pca(eigenvalues,eigenvectors, alpha):\n",
    "    total = sum(eigenvalues)\n",
    "    r = 0\n",
    "    current_sum = 0\n",
    "    while current_sum/total < alpha:\n",
    "        current_sum += eigenvalues[r]\n",
    "        r += 1\n",
    "    new_space = eigenvectors[:, :r]    \n",
    "    pcs.append(r)\n",
    "    return new_space\n",
    "\n",
    "scores=[]\n",
    "for i in alpha:\n",
    "    new_space=get_pca(eigenvalues,eigenvectors,i)\n",
    "    print(new_space.shape)\n",
    "\n",
    "    new_training_set = np.dot(centered_training_set, new_space)\n",
    "    print(new_training_set.shape)\n",
    "    \n",
    "    centered_test_set = test_set - np.mean(test_set, axis=0)\n",
    "    new_test_set = np.dot(centered_test_set, new_space)\n",
    "    print(new_test_set.shape)\n",
    "\n",
    "    new_training_labels = training_labels\n",
    "    new_test_labels = test_labels\n",
    "\n",
    "    from sklearn.neighbors import KNeighborsClassifier\n",
    "    knn = KNeighborsClassifier(n_neighbors=1)\n",
    "    knn.fit(new_training_set, training_labels.ravel())\n",
    "    print(knn.score(new_test_set, test_labels.ravel()))\n",
    "    scores.append(knn.score(new_test_set, test_labels.ravel()))\n",
    "\n",
    "    \n",
    "    \n",
    "\n",
    "\n"
   ]
  },
  {
   "cell_type": "code",
   "execution_count": 41,
   "metadata": {},
   "outputs": [
    {
     "data": {
      "image/png": "[encoded data removed]",
      "text/plain": [
       "<Figure size 640x480 with 1 Axes>"
      ]
     },
     "metadata": {},
     "output_type": "display_data"
    }
   ],
   "source": [
    "plt.plot(alpha, scores)\n",
    "plt.xlabel(\"alpha\")\n",
    "plt.ylabel(\"accuracy\")\n",
    "plt.show()\n"
   ]
  },
  {
   "attachments": {},
   "cell_type": "markdown",
   "metadata": {},
   "source": [
    "according to this figure as alpha increases the accuracy increases "
   ]
  }
 ],
 "metadata": {
  "kernelspec": {
   "display_name": "Python 3",
   "language": "python",
   "name": "python3"
  },
  "language_info": {
   "codemirror_mode": {
    "name": "ipython",
    "version": 3
   },
   "file_extension": ".py",
   "mimetype": "text/x-python",
   "name": "python",
   "nbconvert_exporter": "python",
   "pygments_lexer": "ipython3",
   "version": "3.10.3"
  },
  "orig_nbformat": 4
 },
 "nbformat": 4,
 "nbformat_minor": 2
}
